{
 "cells": [
  {
   "metadata": {
    "ExecuteTime": {
     "end_time": "2024-08-01T20:11:52.909758Z",
     "start_time": "2024-08-01T20:11:52.907023Z"
    }
   },
   "cell_type": "code",
   "source": [
    "import tensorflow as tf\n",
    "from tensorflow.keras.layers import Conv2D, MaxPooling2D, Flatten, Dense, Dropout"
   ],
   "id": "93f760f0d82ced1b",
   "outputs": [],
   "execution_count": 9
  },
  {
   "cell_type": "code",
   "id": "initial_id",
   "metadata": {
    "collapsed": true,
    "ExecuteTime": {
     "end_time": "2024-08-01T20:15:26.406499Z",
     "start_time": "2024-08-01T20:11:52.947056Z"
    }
   },
   "source": [
    "# 1. Create an Image Data Generator\n",
    "train_datagen = tf.keras.preprocessing.image.ImageDataGenerator(\n",
    "    rescale=1./255,           # Rescale pixel values to [0, 1]\n",
    "    shear_range=0.2,          # Randomly shear images\n",
    "    zoom_range=0.2,           # Randomly zoom into images\n",
    "    horizontal_flip=True,     # Randomly flip images horizontally\n",
    "    validation_split=0.2      # Use 20% of images for validation\n",
    ")\n",
    "\n",
    "test_datagen = tf.keras.preprocessing.image.ImageDataGenerator(rescale=1./255)\n",
    "\n",
    "# Load training and validation data\n",
    "train_generator = train_datagen.flow_from_directory(\n",
    "    '../images_binary',             # Directory with training data\n",
    "    target_size=(775, 616),   # Resize images to 150x150\n",
    "    batch_size=32,\n",
    "    color_mode='grayscale',\n",
    "    class_mode='binary',      # For categorical classification\n",
    "    subset='training'         # Use the training subset\n",
    ")\n",
    "\n",
    "validation_generator = train_datagen.flow_from_directory(\n",
    "    '../images_binary',             # Directory with validation data\n",
    "    target_size=(775, 616),\n",
    "    batch_size=32,\n",
    "    color_mode='grayscale',\n",
    "    class_mode='binary',\n",
    "    subset='validation'       # Use the validation subset\n",
    ")\n",
    "\n",
    "# 2. Build the CNN Model\n",
    "model = tf.keras.models.Sequential([\n",
    "    Conv2D(32, (3, 3), activation='relu', input_shape=(775, 616, 1)),\n",
    "    MaxPooling2D(pool_size=(3, 3)),\n",
    "    \n",
    "    Conv2D(32, (3, 3), activation='relu'),\n",
    "    MaxPooling2D(pool_size=(2, 2)),\n",
    "    \n",
    "    Conv2D(64, (3, 3), activation='relu'),\n",
    "    MaxPooling2D(pool_size=(2, 2)),\n",
    "\n",
    "    Conv2D(64, (3, 3), activation='relu'),\n",
    "    MaxPooling2D(pool_size=(2, 2)),\n",
    "\n",
    "    Flatten(),\n",
    "\n",
    "    Dense(128, activation='relu'),\n",
    "    Dropout(0.5),\n",
    "\n",
    "    Dense(1, activation='sigmoid')  \n",
    "])\n",
    "\n",
    "# 3. Compile the Model\n",
    "model.compile(optimizer='adam',\n",
    "              loss='binary_crossentropy',\n",
    "              metrics=['accuracy'])\n",
    "\n",
    "# 4. Define Callbacks\n",
    "checkpoint = tf.keras.callbacks.ModelCheckpoint(\n",
    "    '../models/best_model.keras',          # Save the best model\n",
    "    monitor='val_accuracy',   # Monitor validation accuracy\n",
    "    verbose=1,\n",
    "    save_best_only=True,      # Save only the best model\n",
    "    mode='max'\n",
    ")\n",
    "\n",
    "early_stopping = tf.keras.callbacks.EarlyStopping(\n",
    "    monitor='val_accuracy',   # Monitor validation accuracy\n",
    "    patience=5,               # Stop if no improvement after 5 epochs\n",
    "    verbose=1,\n",
    "    \n",
    "    mode='max'\n",
    ")\n",
    "\n",
    "callbacks = [checkpoint, early_stopping]\n",
    "\n",
    "# 5. Train the Model\n",
    "history = model.fit(\n",
    "    train_generator,\n",
    "    steps_per_epoch=train_generator.samples // train_generator.batch_size,\n",
    "    validation_data=validation_generator,\n",
    "    validation_steps=validation_generator.samples // validation_generator.batch_size,\n",
    "    epochs=15,                 # Maximum number of epochs\n",
    "    callbacks=callbacks        # Use the callbacks defined above\n",
    ")"
   ],
   "outputs": [
    {
     "name": "stdout",
     "output_type": "stream",
     "text": [
      "Found 1222 images belonging to 2 classes.\n",
      "Found 304 images belonging to 2 classes.\n",
      "Epoch 1/15\n",
      "\u001B[1m38/38\u001B[0m \u001B[32m━━━━━━━━━━━━━━━━━━━━\u001B[0m\u001B[37m\u001B[0m \u001B[1m0s\u001B[0m 1s/step - accuracy: 0.8112 - loss: 0.4755\n",
      "Epoch 1: val_accuracy improved from -inf to 0.85417, saving model to ../models/best_model.keras\n",
      "\u001B[1m38/38\u001B[0m \u001B[32m━━━━━━━━━━━━━━━━━━━━\u001B[0m\u001B[37m\u001B[0m \u001B[1m54s\u001B[0m 1s/step - accuracy: 0.8120 - loss: 0.4754 - val_accuracy: 0.8542 - val_loss: 0.4361\n",
      "Epoch 2/15\n",
      "\u001B[1m 1/38\u001B[0m \u001B[37m━━━━━━━━━━━━━━━━━━━━\u001B[0m \u001B[1m35s\u001B[0m 971ms/step - accuracy: 0.9062 - loss: 0.3913\n",
      "Epoch 2: val_accuracy improved from 0.85417 to 0.93750, saving model to ../models/best_model.keras\n",
      "\u001B[1m38/38\u001B[0m \u001B[32m━━━━━━━━━━━━━━━━━━━━\u001B[0m\u001B[37m\u001B[0m \u001B[1m1s\u001B[0m 10ms/step - accuracy: 0.9062 - loss: 0.3913 - val_accuracy: 0.9375 - val_loss: 0.3082\n",
      "Epoch 3/15\n",
      "\u001B[1m38/38\u001B[0m \u001B[32m━━━━━━━━━━━━━━━━━━━━\u001B[0m\u001B[37m\u001B[0m \u001B[1m0s\u001B[0m 1s/step - accuracy: 0.8453 - loss: 0.4513\n",
      "Epoch 3: val_accuracy did not improve from 0.93750\n",
      "\u001B[1m38/38\u001B[0m \u001B[32m━━━━━━━━━━━━━━━━━━━━\u001B[0m\u001B[37m\u001B[0m \u001B[1m52s\u001B[0m 1s/step - accuracy: 0.8455 - loss: 0.4508 - val_accuracy: 0.8576 - val_loss: 0.4079\n",
      "Epoch 4/15\n",
      "\u001B[1m 1/38\u001B[0m \u001B[37m━━━━━━━━━━━━━━━━━━━━\u001B[0m \u001B[1m39s\u001B[0m 1s/step - accuracy: 0.9375 - loss: 0.2914\n",
      "Epoch 4: val_accuracy did not improve from 0.93750\n",
      "\u001B[1m38/38\u001B[0m \u001B[32m━━━━━━━━━━━━━━━━━━━━\u001B[0m\u001B[37m\u001B[0m \u001B[1m1s\u001B[0m 4ms/step - accuracy: 0.9375 - loss: 0.2914 - val_accuracy: 0.8750 - val_loss: 0.3835\n",
      "Epoch 5/15\n",
      "\u001B[1m38/38\u001B[0m \u001B[32m━━━━━━━━━━━━━━━━━━━━\u001B[0m\u001B[37m\u001B[0m \u001B[1m0s\u001B[0m 1s/step - accuracy: 0.8429 - loss: 0.4341\n",
      "Epoch 5: val_accuracy did not improve from 0.93750\n",
      "\u001B[1m38/38\u001B[0m \u001B[32m━━━━━━━━━━━━━━━━━━━━\u001B[0m\u001B[37m\u001B[0m \u001B[1m51s\u001B[0m 1s/step - accuracy: 0.8432 - loss: 0.4334 - val_accuracy: 0.8542 - val_loss: 0.4172\n",
      "Epoch 6/15\n",
      "\u001B[1m 1/38\u001B[0m \u001B[37m━━━━━━━━━━━━━━━━━━━━\u001B[0m \u001B[1m36s\u001B[0m 994ms/step - accuracy: 0.9062 - loss: 0.2419\n",
      "Epoch 6: val_accuracy did not improve from 0.93750\n",
      "\u001B[1m38/38\u001B[0m \u001B[32m━━━━━━━━━━━━━━━━━━━━\u001B[0m\u001B[37m\u001B[0m \u001B[1m1s\u001B[0m 5ms/step - accuracy: 0.9062 - loss: 0.2419 - val_accuracy: 0.9375 - val_loss: 0.1681\n",
      "Epoch 7/15\n",
      "\u001B[1m38/38\u001B[0m \u001B[32m━━━━━━━━━━━━━━━━━━━━\u001B[0m\u001B[37m\u001B[0m \u001B[1m0s\u001B[0m 1s/step - accuracy: 0.8589 - loss: 0.3931\n",
      "Epoch 7: val_accuracy did not improve from 0.93750\n",
      "\u001B[1m38/38\u001B[0m \u001B[32m━━━━━━━━━━━━━━━━━━━━\u001B[0m\u001B[37m\u001B[0m \u001B[1m51s\u001B[0m 1s/step - accuracy: 0.8588 - loss: 0.3931 - val_accuracy: 0.8576 - val_loss: 0.3525\n",
      "Epoch 7: early stopping\n"
     ]
    }
   ],
   "execution_count": 10
  }
 ],
 "metadata": {
  "kernelspec": {
   "display_name": "Python 3",
   "language": "python",
   "name": "python3"
  },
  "language_info": {
   "codemirror_mode": {
    "name": "ipython",
    "version": 2
   },
   "file_extension": ".py",
   "mimetype": "text/x-python",
   "name": "python",
   "nbconvert_exporter": "python",
   "pygments_lexer": "ipython2",
   "version": "2.7.6"
  }
 },
 "nbformat": 4,
 "nbformat_minor": 5
}
