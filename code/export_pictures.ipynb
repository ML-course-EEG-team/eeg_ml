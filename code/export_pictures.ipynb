{
 "cells": [
  {
   "cell_type": "code",
   "id": "initial_id",
   "metadata": {
    "collapsed": true,
    "ExecuteTime": {
     "end_time": "2024-07-31T20:20:59.197735Z",
     "start_time": "2024-07-31T20:20:59.194666Z"
    }
   },
   "source": [
    "import mne\n",
    "import pandas as pd\n",
    "import numpy as np\n",
    "import matplotlib.pyplot as plt\n",
    "import seaborn as sns\n",
    "import os\n",
    "import re"
   ],
   "outputs": [],
   "execution_count": 36
  },
  {
   "metadata": {
    "ExecuteTime": {
     "end_time": "2024-07-31T20:20:59.236547Z",
     "start_time": "2024-07-31T20:20:59.198739Z"
    }
   },
   "cell_type": "code",
   "source": "export_path = '../images_binary'",
   "id": "e93d3ae68200a4d9",
   "outputs": [],
   "execution_count": 37
  },
  {
   "metadata": {
    "ExecuteTime": {
     "end_time": "2024-07-31T20:20:59.241056Z",
     "start_time": "2024-07-31T20:20:59.237551Z"
    }
   },
   "cell_type": "code",
   "source": [
    "def preprocessing(df):\n",
    "    df = df.loc[:, ['C5..', 'C3..', 'C1..', 'C2..', 'C4..', 'C6..', 'Cp5.', 'Cp3.', 'Cp1.', 'Cp2.', 'Cp4.', 'Cp6.', 'P5..', 'P3..', 'P1..', 'P2..', 'P4..']]\n",
    "    return df"
   ],
   "id": "c8788cfc598c7750",
   "outputs": [],
   "execution_count": 38
  },
  {
   "metadata": {
    "ExecuteTime": {
     "end_time": "2024-07-31T20:20:59.245110Z",
     "start_time": "2024-07-31T20:20:59.242062Z"
    }
   },
   "cell_type": "code",
   "source": [
    "def save_image(data, label, file):\n",
    "    path = export_path+'/'+label+'/'+file+'.png'\n",
    "    plt.figure(figsize=(10, 8))\n",
    "    sns.heatmap(data, annot=False, fmt=\".2f\", cmap=\"gray\", xticklabels=False, yticklabels=False, cbar=False)\n",
    "    plt.savefig(path, bbox_inches='tight', pad_inches=0.0)\n",
    "    plt.close()\n",
    "    print('Saved image: '+path)"
   ],
   "id": "c11c957c11098aa",
   "outputs": [],
   "execution_count": 39
  },
  {
   "metadata": {
    "ExecuteTime": {
     "end_time": "2024-07-31T20:20:59.254719Z",
     "start_time": "2024-07-31T20:20:59.249696Z"
    }
   },
   "cell_type": "code",
   "source": [
    "def export_pics():\n",
    "    label_dict = {\n",
    "        '01': 'baseline',\n",
    "        '02': 'baseline',\n",
    "        '03': 'movement',\n",
    "        '04': 'movement',\n",
    "        '05': 'movement',\n",
    "        '06': 'movement',\n",
    "        '07': 'movement',\n",
    "        '08': 'movement',\n",
    "        '09': 'movement',\n",
    "        '10': 'movement',\n",
    "        '11': 'movement',\n",
    "        '12': 'movement',\n",
    "        '13': 'movement',\n",
    "        '14': 'movement'\n",
    "    }\n",
    "    pattern = re.compile(r'.*edf$')\n",
    "    for subdir, dirs, files in os.walk('../files'):\n",
    "        for file in [f for f in files if pattern.match(f)]:\n",
    "            path = subdir+'\\\\'+file\n",
    "            raw = mne.io.read_raw_edf(path, preload=True)\n",
    "            df = raw.to_data_frame()\n",
    "            df_absolute = df.loc[:, df.columns != 'time'].abs()\n",
    "            df_absolute.reset_index(drop=True, inplace=True)\n",
    "            df_final = preprocessing(df_absolute)\n",
    "            label = label_dict[file[5:7]]\n",
    "            save_image(df_final, label, file)"
   ],
   "id": "bda1b8b018194b93",
   "outputs": [],
   "execution_count": 41
  },
  {
   "metadata": {
    "ExecuteTime": {
     "end_time": "2024-07-31T20:20:59.476909Z",
     "start_time": "2024-07-31T20:20:59.255724Z"
    }
   },
   "cell_type": "code",
   "source": "export_pics()",
   "id": "b41962949bf5c703",
   "outputs": [
    {
     "name": "stdout",
     "output_type": "stream",
     "text": [
      "Extracting EDF parameters from C:\\Users\\joshu\\Documents\\Github\\eeg_ml\\files\\S001\\S001R01.edf...\n",
      "EDF file detected\n",
      "Setting channel info structure...\n",
      "Creating raw.info structure...\n",
      "Reading 0 ... 9759  =      0.000 ...    60.994 secs...\n",
      "Filtering raw data in 1 contiguous segment\n",
      "Setting up band-pass filter from 8 - 30 Hz\n",
      "\n",
      "FIR filter parameters\n",
      "---------------------\n",
      "Designing a one-pass, zero-phase, non-causal bandpass filter:\n",
      "- Windowed time-domain design (firwin) method\n",
      "- Hamming window with 0.0194 passband ripple and 53 dB stopband attenuation\n",
      "- Lower passband edge: 8.00\n",
      "- Lower transition bandwidth: 2.00 Hz (-6 dB cutoff frequency: 7.00 Hz)\n",
      "- Upper passband edge: 30.00 Hz\n",
      "- Upper transition bandwidth: 7.50 Hz (-6 dB cutoff frequency: 33.75 Hz)\n",
      "- Filter length: 265 samples (1.656 s)\n",
      "\n"
     ]
    },
    {
     "name": "stderr",
     "output_type": "stream",
     "text": [
      "[Parallel(n_jobs=1)]: Done  17 tasks      | elapsed:    0.0s\n"
     ]
    },
    {
     "ename": "AttributeError",
     "evalue": "'numpy.ndarray' object has no attribute 'to_data_frame'",
     "output_type": "error",
     "traceback": [
      "\u001B[1;31m---------------------------------------------------------------------------\u001B[0m",
      "\u001B[1;31mAttributeError\u001B[0m                            Traceback (most recent call last)",
      "Cell \u001B[1;32mIn[42], line 1\u001B[0m\n\u001B[1;32m----> 1\u001B[0m export_pics()\n",
      "Cell \u001B[1;32mIn[41], line 38\u001B[0m, in \u001B[0;36mexport_pics\u001B[1;34m()\u001B[0m\n\u001B[0;32m     34\u001B[0m \u001B[38;5;66;03m# Convert power data to a suitable format for image export\u001B[39;00m\n\u001B[0;32m     35\u001B[0m \u001B[38;5;66;03m# For simplicity, we'll use the first frequency and time point\u001B[39;00m\n\u001B[0;32m     36\u001B[0m power_data \u001B[38;5;241m=\u001B[39m power\u001B[38;5;241m.\u001B[39mdata[\u001B[38;5;241m0\u001B[39m, \u001B[38;5;241m0\u001B[39m, :]  \u001B[38;5;66;03m# Extract a specific time-frequency bin\u001B[39;00m\n\u001B[1;32m---> 38\u001B[0m df \u001B[38;5;241m=\u001B[39m power_data\u001B[38;5;241m.\u001B[39mto_data_frame()\n\u001B[0;32m     39\u001B[0m \u001B[38;5;66;03m#df_absolute = df.loc[:, df.columns != 'time'].abs()\u001B[39;00m\n\u001B[0;32m     40\u001B[0m \u001B[38;5;66;03m#df_absolute.reset_index(drop=True, inplace=True)\u001B[39;00m\n\u001B[0;32m     41\u001B[0m df_final \u001B[38;5;241m=\u001B[39m preprocessing(df)\n",
      "\u001B[1;31mAttributeError\u001B[0m: 'numpy.ndarray' object has no attribute 'to_data_frame'"
     ]
    }
   ],
   "execution_count": 42
  }
 ],
 "metadata": {
  "kernelspec": {
   "display_name": "Python 3",
   "language": "python",
   "name": "python3"
  },
  "language_info": {
   "codemirror_mode": {
    "name": "ipython",
    "version": 2
   },
   "file_extension": ".py",
   "mimetype": "text/x-python",
   "name": "python",
   "nbconvert_exporter": "python",
   "pygments_lexer": "ipython2",
   "version": "2.7.6"
  }
 },
 "nbformat": 4,
 "nbformat_minor": 5
}
